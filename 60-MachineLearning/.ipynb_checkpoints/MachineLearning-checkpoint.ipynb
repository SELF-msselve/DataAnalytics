{
 "cells": [
  {
   "cell_type": "code",
   "execution_count": 4,
   "metadata": {},
   "outputs": [],
   "source": [
    "import pandas as pd\n",
    "\n",
    "from sklearn.model_selection import train_test_split\n",
    "from sklearn.preprocessing import StandardScaler\n",
    "#from sklearn.linear_model import LogisticRegression\n",
    "from sklearn.linear_model import LinearRegression\n",
    "#from sklearn.metrics import accuracy_score\n",
    "#from sklearn.metrics import confusion_matrix\n",
    "#from sklearn.metrics import classification_report\n",
    "\n",
    "nombreArchivo = '115-2-MachineLearning.xlsx'\n",
    "nombreSalida = '115-2-Predicciones_300_PILT_90.xlsx'\n",
    "nombreHoja = 'Predict'\n",
    "#300_PREMIO  200_PREMIO  200_PREMIO_90  300_PREMIO_90  300_PILT  300_PILT_90\n",
    "nombreTarget = '300_PILT_90'\n",
    "nombreDrop = ['300_PREMIO_90', '200_PREMIO', '200_PREMIO_90', '300_PILT']\n",
    "\n",
    "rawData = pd.read_excel(nombreArchivo, sheet_name = nombreHoja)\n",
    "\n",
    "rawData['Trans'] = rawData['Trans'].fillna(0)\n",
    "#datos = datos.dropna(how='any')\n",
    "\n",
    "data = rawData.drop(['Name', 'CASE Wp', 'Orientation', 'Trans'],axis = 1 )\n",
    "\n",
    "data = data.drop(nombreDrop,axis = 1 )\n",
    "\n",
    "#Dejo solo los datos de Entrenamiento.\n",
    "dataTraining = data.dropna()\n",
    "\n",
    "#Elimino todos los datos que son de Entrenamiento.\n",
    "dataPredict = data.drop(dataTraining.index)\n",
    "\n",
    "rawData = rawData.drop(dataTraining.index)\n",
    "\n",
    "#separacion de Columnas Dato y Columna Resultado\n",
    "Y_train = dataTraining[nombreTarget]\n",
    "X_train = dataTraining.drop(nombreTarget, axis = 1)\n",
    "\n",
    "X_Predict = dataPredict.drop(nombreTarget, axis = 1)\n",
    "\n",
    "model = LinearRegression()\n",
    "model.fit(X_train, Y_train)\n",
    "\n",
    "predicciones = model.predict(X_Predict)\n",
    "\n",
    "rawData[nombreTarget] = predicciones.tolist()\n",
    "\n",
    "rawData.to_excel(nombreSalida, sheet_name='PRED', index=False)\n",
    "\n",
    "\n",
    "\n"
   ]
  },
  {
   "cell_type": "code",
   "execution_count": 3,
   "metadata": {},
   "outputs": [],
   "source": [
    "nombreArchivo = '115-2-MachineLearning.xlsx'\n",
    "nombreHoja = 'Predict'\n",
    "rawData = pd.read_excel(nombreArchivo, sheet_name = nombreHoja)\n",
    "\n",
    "#rawData.head()"
   ]
  },
  {
   "cell_type": "code",
   "execution_count": 4,
   "metadata": {},
   "outputs": [],
   "source": [
    "rawData['Trans'] = rawData['Trans'].fillna(0)\n",
    "#datos = datos.dropna(how='any')\n",
    "\n",
    "data = rawData.drop(['Name', 'CASE Wp', 'Orientation', 'Trans'],axis = 1 )\n",
    "\n",
    "nombreTarget = '200_PREMIO'\n",
    "nombreDrop = ['200_PREMIO_90', '300_PREMIO_90']\n",
    "\n",
    "data = data.drop(nombreDrop,axis = 1 )\n"
   ]
  },
  {
   "cell_type": "code",
   "execution_count": null,
   "metadata": {},
   "outputs": [],
   "source": [
    "import matplotlib.pyplot as plt\n",
    "plt.scatter(x = data['300_PREMIO'], y = data['200_PREMIO'])\n",
    "plt.title('PRUEBA')\n",
    "plt.xlabel('NP')\n",
    "plt.ylabel('PREMMIO')\n",
    "plt.show()"
   ]
  },
  {
   "cell_type": "code",
   "execution_count": 5,
   "metadata": {},
   "outputs": [],
   "source": [
    "#Separo datos de Entrenamiento y de Test\n",
    "#En este caso no lo hago porque voy a tener otros datos de Test.\n",
    "#dataTraining = data.sample(frac=0.8,random_state=0)\n",
    "#dataTest = data.drop(dataTrainig.index)\n",
    "\n",
    "#Dejo solo los datos de Entrenamiento.\n",
    "dataTraining = data.dropna()\n",
    "\n",
    "#Elimino todos los datos que son de Entrenamiento.\n",
    "dataPredict = data.drop(dataTraining.index)\n",
    "\n",
    "rawData = rawData.drop(dataTraining.index)\n"
   ]
  },
  {
   "cell_type": "code",
   "execution_count": null,
   "metadata": {},
   "outputs": [],
   "source": [
    "print(rawData.head())\n",
    "print(dataPredict.head())"
   ]
  },
  {
   "cell_type": "code",
   "execution_count": 6,
   "metadata": {},
   "outputs": [],
   "source": [
    "#separacion de Columnas Dato y Columna Resultado\n",
    "Y_train = dataTraining[nombreTarget]\n",
    "X_train = dataTraining.drop(nombreTarget, axis = 1)\n",
    "\n",
    "X_Predict = dataPredict.drop(nombreTarget, axis = 1)"
   ]
  },
  {
   "cell_type": "code",
   "execution_count": null,
   "metadata": {},
   "outputs": [],
   "source": [
    "#print(X_train.head())\n",
    "#print(X_Predict.head())\n",
    "#print(Y_train.head())\n",
    "\n",
    "X_Predict.isna().sum()"
   ]
  },
  {
   "cell_type": "code",
   "execution_count": 7,
   "metadata": {},
   "outputs": [
    {
     "data": {
      "text/plain": [
       "LinearRegression(copy_X=True, fit_intercept=True, n_jobs=None,\n",
       "         normalize=False)"
      ]
     },
     "execution_count": 7,
     "metadata": {},
     "output_type": "execute_result"
    }
   ],
   "source": [
    "model = LinearRegression()\n",
    "model.fit(X_train, Y_train)"
   ]
  },
  {
   "cell_type": "code",
   "execution_count": 8,
   "metadata": {},
   "outputs": [
    {
     "data": {
      "text/plain": [
       "array([3912985.09920807, 4003257.06101632, 3963501.61451244,\n",
       "       3860000.51076627, 3915214.99253228, 4091857.45567897,\n",
       "       3961328.59620749, 3945255.16223502, 3985131.97076356,\n",
       "       3967902.42705411, 4135166.28872929, 3954076.55623167,\n",
       "       4093120.5833923 , 4016937.59215525, 3979852.1859149 ,\n",
       "       4090457.17037966, 4311176.90700472, 4035173.38822005,\n",
       "       4052854.54834328, 3962276.97605743, 4060986.99380098,\n",
       "       3969773.20179995, 4165459.15398837, 3969861.84682717,\n",
       "       3972745.68590507, 3967354.05190795, 3968254.756572  ,\n",
       "       3952521.98706237, 3950233.36935112, 4284431.65382448,\n",
       "       4292320.69779198, 3440515.82808034, 3376291.28632071,\n",
       "       3237299.05264263, 3641789.65289374, 3306523.62065734,\n",
       "       3267603.26353582, 3345124.49708387, 3807850.63686733,\n",
       "       3281458.00002497, 3569069.08864617, 3608038.77707953,\n",
       "       3323622.95283948, 3298670.41964178, 3442947.71430102,\n",
       "       3472441.0225246 , 3327630.46259922, 3426199.51184368,\n",
       "       3442814.39712928, 3731615.98103307, 3407008.00083283,\n",
       "       3370525.46536185, 3297782.54225693, 3579430.09788967,\n",
       "       3441977.19598524, 3377897.41144686, 3494957.24803081,\n",
       "       3319330.74677692, 3669200.34202014, 3653956.98943815,\n",
       "       3408226.44048234, 3321440.99417771, 3335536.06021608,\n",
       "       3357233.03996166, 3406887.88467047, 3721345.19137407,\n",
       "       3532083.0914027 , 3341031.42724679, 3400875.63274908,\n",
       "       3405419.62030295, 3725285.17870853, 3645376.71987391,\n",
       "       3371197.6486525 , 3654142.56789527, 3708686.62768437,\n",
       "       3617072.63683665, 3458295.70241862, 3356837.88609979,\n",
       "       3537184.81647984, 3747926.53295678, 3742557.54160778,\n",
       "       3694779.98348205, 3818710.32013112, 3668746.64873482,\n",
       "       3812492.31731578, 3920609.74262449, 3744984.30648777,\n",
       "       3717077.64795775, 3728810.06231181, 3788031.34269826,\n",
       "       3684040.75406943, 3756550.87979558, 3836237.57879959,\n",
       "       3663955.49754804, 3728633.24548657, 3808343.45276966,\n",
       "       3609036.83640621, 3678638.62037949, 3648302.94258836,\n",
       "       3806000.49510599, 3579029.67555038, 3594962.73700222,\n",
       "       3713977.77061738, 3758952.37960445, 3621928.72956745,\n",
       "       3871753.64348907, 3660659.82761196, 3914343.77962998,\n",
       "       3650144.49345222, 3759704.24089121, 3842663.39637381,\n",
       "       3794559.02892629, 3961710.17432693, 3806765.43853057,\n",
       "       3662290.21942667, 3533370.80257367, 3675489.19288618,\n",
       "       3581995.1105144 , 3712928.81319377, 3646870.86980586])"
      ]
     },
     "execution_count": 8,
     "metadata": {},
     "output_type": "execute_result"
    }
   ],
   "source": [
    "predicciones = model.predict(X_Predict)\n",
    "predicciones"
   ]
  },
  {
   "cell_type": "code",
   "execution_count": 9,
   "metadata": {},
   "outputs": [],
   "source": [
    "rawData[nombreTarget] = predicciones.tolist()\n"
   ]
  },
  {
   "cell_type": "code",
   "execution_count": null,
   "metadata": {},
   "outputs": [],
   "source": [
    "rawData.head()"
   ]
  },
  {
   "cell_type": "code",
   "execution_count": 10,
   "metadata": {},
   "outputs": [],
   "source": [
    "rawData.to_excel('predicciones.xlsx', sheet_name='PRED', index=False)"
   ]
  },
  {
   "cell_type": "code",
   "execution_count": null,
   "metadata": {},
   "outputs": [],
   "source": []
  },
  {
   "cell_type": "raw",
   "metadata": {},
   "source": [
    "https://www.youtube.com/watch?v=9aMDsCB_gfk\n",
    "https://www.youtube.com/watch?v=c8W7dRPdIPE\n"
   ]
  }
 ],
 "metadata": {
  "kernelspec": {
   "display_name": "Python 3",
   "language": "python",
   "name": "python3"
  },
  "language_info": {
   "codemirror_mode": {
    "name": "ipython",
    "version": 3
   },
   "file_extension": ".py",
   "mimetype": "text/x-python",
   "name": "python",
   "nbconvert_exporter": "python",
   "pygments_lexer": "ipython3",
   "version": "3.7.3"
  }
 },
 "nbformat": 4,
 "nbformat_minor": 2
}
